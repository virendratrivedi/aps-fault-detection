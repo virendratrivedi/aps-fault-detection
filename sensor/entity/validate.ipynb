{
 "cells": [
  {
   "cell_type": "code",
   "execution_count": 3,
   "metadata": {},
   "outputs": [
    {
     "data": {
      "text/html": [
       "<div>\n",
       "<style scoped>\n",
       "    .dataframe tbody tr th:only-of-type {\n",
       "        vertical-align: middle;\n",
       "    }\n",
       "\n",
       "    .dataframe tbody tr th {\n",
       "        vertical-align: top;\n",
       "    }\n",
       "\n",
       "    .dataframe thead th {\n",
       "        text-align: right;\n",
       "    }\n",
       "</style>\n",
       "<table border=\"1\" class=\"dataframe\">\n",
       "  <thead>\n",
       "    <tr style=\"text-align: right;\">\n",
       "      <th></th>\n",
       "      <th>class</th>\n",
       "      <th>aa_000</th>\n",
       "      <th>ab_000</th>\n",
       "      <th>ac_000</th>\n",
       "      <th>ad_000</th>\n",
       "      <th>ae_000</th>\n",
       "      <th>af_000</th>\n",
       "      <th>ag_000</th>\n",
       "      <th>ag_001</th>\n",
       "      <th>ag_002</th>\n",
       "      <th>...</th>\n",
       "      <th>ee_002</th>\n",
       "      <th>ee_003</th>\n",
       "      <th>ee_004</th>\n",
       "      <th>ee_005</th>\n",
       "      <th>ee_006</th>\n",
       "      <th>ee_007</th>\n",
       "      <th>ee_008</th>\n",
       "      <th>ee_009</th>\n",
       "      <th>ef_000</th>\n",
       "      <th>eg_000</th>\n",
       "    </tr>\n",
       "  </thead>\n",
       "  <tbody>\n",
       "    <tr>\n",
       "      <th>0</th>\n",
       "      <td>neg</td>\n",
       "      <td>1002040</td>\n",
       "      <td>NaN</td>\n",
       "      <td>2.152000e+03</td>\n",
       "      <td>2150.0</td>\n",
       "      <td>0.0</td>\n",
       "      <td>0.0</td>\n",
       "      <td>0.0</td>\n",
       "      <td>0.0</td>\n",
       "      <td>77718.0</td>\n",
       "      <td>...</td>\n",
       "      <td>4855214.0</td>\n",
       "      <td>2290554.0</td>\n",
       "      <td>5625166.0</td>\n",
       "      <td>4878990.0</td>\n",
       "      <td>20947036.0</td>\n",
       "      <td>5224144.0</td>\n",
       "      <td>29170.0</td>\n",
       "      <td>36.0</td>\n",
       "      <td>0.0</td>\n",
       "      <td>0.0</td>\n",
       "    </tr>\n",
       "    <tr>\n",
       "      <th>1</th>\n",
       "      <td>neg</td>\n",
       "      <td>11234</td>\n",
       "      <td>0.0</td>\n",
       "      <td>3.280000e+02</td>\n",
       "      <td>NaN</td>\n",
       "      <td>0.0</td>\n",
       "      <td>0.0</td>\n",
       "      <td>0.0</td>\n",
       "      <td>0.0</td>\n",
       "      <td>0.0</td>\n",
       "      <td>...</td>\n",
       "      <td>127434.0</td>\n",
       "      <td>52228.0</td>\n",
       "      <td>93878.0</td>\n",
       "      <td>84044.0</td>\n",
       "      <td>86102.0</td>\n",
       "      <td>64648.0</td>\n",
       "      <td>332.0</td>\n",
       "      <td>0.0</td>\n",
       "      <td>0.0</td>\n",
       "      <td>0.0</td>\n",
       "    </tr>\n",
       "    <tr>\n",
       "      <th>2</th>\n",
       "      <td>neg</td>\n",
       "      <td>29622</td>\n",
       "      <td>NaN</td>\n",
       "      <td>7.820000e+02</td>\n",
       "      <td>704.0</td>\n",
       "      <td>0.0</td>\n",
       "      <td>0.0</td>\n",
       "      <td>0.0</td>\n",
       "      <td>0.0</td>\n",
       "      <td>0.0</td>\n",
       "      <td>...</td>\n",
       "      <td>296106.0</td>\n",
       "      <td>129134.0</td>\n",
       "      <td>238698.0</td>\n",
       "      <td>205692.0</td>\n",
       "      <td>155264.0</td>\n",
       "      <td>108940.0</td>\n",
       "      <td>156184.0</td>\n",
       "      <td>2314.0</td>\n",
       "      <td>0.0</td>\n",
       "      <td>0.0</td>\n",
       "    </tr>\n",
       "    <tr>\n",
       "      <th>3</th>\n",
       "      <td>neg</td>\n",
       "      <td>38554</td>\n",
       "      <td>NaN</td>\n",
       "      <td>2.130706e+09</td>\n",
       "      <td>1378.0</td>\n",
       "      <td>0.0</td>\n",
       "      <td>0.0</td>\n",
       "      <td>0.0</td>\n",
       "      <td>0.0</td>\n",
       "      <td>0.0</td>\n",
       "      <td>...</td>\n",
       "      <td>278724.0</td>\n",
       "      <td>117300.0</td>\n",
       "      <td>242844.0</td>\n",
       "      <td>218418.0</td>\n",
       "      <td>306336.0</td>\n",
       "      <td>254522.0</td>\n",
       "      <td>184890.0</td>\n",
       "      <td>934.0</td>\n",
       "      <td>0.0</td>\n",
       "      <td>0.0</td>\n",
       "    </tr>\n",
       "    <tr>\n",
       "      <th>4</th>\n",
       "      <td>neg</td>\n",
       "      <td>39108</td>\n",
       "      <td>NaN</td>\n",
       "      <td>2.130706e+09</td>\n",
       "      <td>70.0</td>\n",
       "      <td>0.0</td>\n",
       "      <td>0.0</td>\n",
       "      <td>0.0</td>\n",
       "      <td>0.0</td>\n",
       "      <td>0.0</td>\n",
       "      <td>...</td>\n",
       "      <td>351338.0</td>\n",
       "      <td>184318.0</td>\n",
       "      <td>370806.0</td>\n",
       "      <td>350912.0</td>\n",
       "      <td>250294.0</td>\n",
       "      <td>150128.0</td>\n",
       "      <td>141626.0</td>\n",
       "      <td>2046.0</td>\n",
       "      <td>0.0</td>\n",
       "      <td>0.0</td>\n",
       "    </tr>\n",
       "  </tbody>\n",
       "</table>\n",
       "<p>5 rows × 171 columns</p>\n",
       "</div>"
      ],
      "text/plain": [
       "  class   aa_000  ab_000        ac_000  ad_000  ae_000  af_000  ag_000  \\\n",
       "0   neg  1002040     NaN  2.152000e+03  2150.0     0.0     0.0     0.0   \n",
       "1   neg    11234     0.0  3.280000e+02     NaN     0.0     0.0     0.0   \n",
       "2   neg    29622     NaN  7.820000e+02   704.0     0.0     0.0     0.0   \n",
       "3   neg    38554     NaN  2.130706e+09  1378.0     0.0     0.0     0.0   \n",
       "4   neg    39108     NaN  2.130706e+09    70.0     0.0     0.0     0.0   \n",
       "\n",
       "   ag_001   ag_002  ...     ee_002     ee_003     ee_004     ee_005  \\\n",
       "0     0.0  77718.0  ...  4855214.0  2290554.0  5625166.0  4878990.0   \n",
       "1     0.0      0.0  ...   127434.0    52228.0    93878.0    84044.0   \n",
       "2     0.0      0.0  ...   296106.0   129134.0   238698.0   205692.0   \n",
       "3     0.0      0.0  ...   278724.0   117300.0   242844.0   218418.0   \n",
       "4     0.0      0.0  ...   351338.0   184318.0   370806.0   350912.0   \n",
       "\n",
       "       ee_006     ee_007    ee_008  ee_009  ef_000  eg_000  \n",
       "0  20947036.0  5224144.0   29170.0    36.0     0.0     0.0  \n",
       "1     86102.0    64648.0     332.0     0.0     0.0     0.0  \n",
       "2    155264.0   108940.0  156184.0  2314.0     0.0     0.0  \n",
       "3    306336.0   254522.0  184890.0   934.0     0.0     0.0  \n",
       "4    250294.0   150128.0  141626.0  2046.0     0.0     0.0  \n",
       "\n",
       "[5 rows x 171 columns]"
      ]
     },
     "execution_count": 3,
     "metadata": {},
     "output_type": "execute_result"
    }
   ],
   "source": [
    "import pandas as pd\n",
    "#df1=pd.read_csv('/config/workspace/aps_failure_training_set1.csv')\n",
    "df=pd.read_csv('/config/workspace/artifact/12062022__220004/data_ingestion/dataset/train.csv')\n",
    "df.head()"
   ]
  },
  {
   "cell_type": "code",
   "execution_count": 19,
   "metadata": {},
   "outputs": [],
   "source": [
    "drop_column_name=[]\n",
    "for column_name,missing_percentage in zip((df.isnull().sum()/df.shape[0]).index ,(df.isnull().sum()/df.shape[0]).values):\n",
    "    #print(column_name,missing_percentage*100)\n",
    "    if missing_percentage>0.3:\n",
    "        drop_column_name.append(column_name)\n",
    "        \n",
    "    \n",
    "    \n",
    "        "
   ]
  },
  {
   "cell_type": "code",
   "execution_count": 36,
   "metadata": {},
   "outputs": [
    {
     "data": {
      "text/plain": [
       "['ab_000',\n",
       " 'bk_000',\n",
       " 'bl_000',\n",
       " 'bm_000',\n",
       " 'bn_000',\n",
       " 'bo_000',\n",
       " 'bp_000',\n",
       " 'bq_000',\n",
       " 'br_000',\n",
       " 'cr_000']"
      ]
     },
     "execution_count": 36,
     "metadata": {},
     "output_type": "execute_result"
    }
   ],
   "source": [
    "drop_column_name"
   ]
  },
  {
   "cell_type": "code",
   "execution_count": 37,
   "metadata": {},
   "outputs": [
    {
     "data": {
      "text/plain": [
       "ab_000    0.771744\n",
       "bk_000    0.382349\n",
       "bl_000    0.451019\n",
       "bm_000    0.655371\n",
       "bn_000    0.727185\n",
       "bo_000    0.765630\n",
       "bp_000    0.788359\n",
       "bq_000    0.804905\n",
       "br_000    0.814024\n",
       "cr_000    0.771744\n",
       "dtype: float64"
      ]
     },
     "execution_count": 37,
     "metadata": {},
     "output_type": "execute_result"
    }
   ],
   "source": [
    "null_report=df.isna().sum()/df.shape[0]\n",
    "null_report[null_report>0.3]"
   ]
  },
  {
   "cell_type": "code",
   "execution_count": 4,
   "metadata": {},
   "outputs": [
    {
     "name": "stdout",
     "output_type": "stream",
     "text": [
      "Requirement already satisfied: pyyaml in /config/.local/lib/python3.8/site-packages (6.0)\n",
      "Note: you may need to restart the kernel to use updated packages.\n"
     ]
    }
   ],
   "source": [
    "pip install pyyaml"
   ]
  },
  {
   "cell_type": "code",
   "execution_count": 6,
   "metadata": {},
   "outputs": [
    {
     "name": "stdout",
     "output_type": "stream",
     "text": [
      "['Hesperiidae', 'Papilionidae', 'Apatelodidae', 'Epiplemidae']\n"
     ]
    }
   ],
   "source": [
    "import yaml\n",
    "\n",
    "print(yaml.load(\"\"\"\n",
    " - Hesperiidae\n",
    " - Papilionidae\n",
    " - Apatelodidae\n",
    " - Epiplemidae\n",
    " \"\"\", Loader=yaml.Loader)\n",
    "      )\n"
   ]
  },
  {
   "cell_type": "code",
   "execution_count": null,
   "metadata": {},
   "outputs": [],
   "source": []
  }
 ],
 "metadata": {
  "kernelspec": {
   "display_name": "Python 3.8.10 64-bit",
   "language": "python",
   "name": "python3"
  },
  "language_info": {
   "codemirror_mode": {
    "name": "ipython",
    "version": 3
   },
   "file_extension": ".py",
   "mimetype": "text/x-python",
   "name": "python",
   "nbconvert_exporter": "python",
   "pygments_lexer": "ipython3",
   "version": "3.8.10"
  },
  "orig_nbformat": 4,
  "vscode": {
   "interpreter": {
    "hash": "e7370f93d1d0cde622a1f8e1c04877d8463912d04d973331ad4851f04de6915a"
   }
  }
 },
 "nbformat": 4,
 "nbformat_minor": 2
}
